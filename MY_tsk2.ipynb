{
 "cells": [
  {
   "cell_type": "code",
   "execution_count": 1,
   "id": "76242e87",
   "metadata": {},
   "outputs": [
    {
     "name": "stdout",
     "output_type": "stream",
     "text": [
      "a=3\n",
      "b=5\n",
      "s= 15.0\n"
     ]
    }
   ],
   "source": [
    "def m(a,b):\n",
    "    s = a*b\n",
    "    print(\"s=\",s)\n",
    "a = float (input(\"a=\"))\n",
    "b = float (input(\"b=\"))\n",
    "m(a,b)"
   ]
  },
  {
   "cell_type": "code",
   "execution_count": 6,
   "id": "c6090802",
   "metadata": {},
   "outputs": [
    {
     "name": "stdout",
     "output_type": "stream",
     "text": [
      "a=3\n",
      "b=2\n",
      "s= 6.0\n",
      "a=3\n",
      "b=8\n",
      "s= 24.0\n",
      "a=5\n",
      "b=8\n",
      "s= 40.0\n",
      "a=6\n",
      "b=5\n",
      "s= 30.0\n",
      "a=9\n",
      "b=22\n",
      "s= 198.0\n"
     ]
    }
   ],
   "source": [
    "for i in range (1,6):\n",
    " a = float (input(\"a=\"))\n",
    " b = float (input(\"b=\"))\n",
    " m(a,b)"
   ]
  },
  {
   "cell_type": "code",
   "execution_count": 6,
   "id": "21311431",
   "metadata": {},
   "outputs": [
    {
     "name": "stdout",
     "output_type": "stream",
     "text": [
      "x=2\n",
      "2.0 pos number\n"
     ]
    }
   ],
   "source": [
    "def sign(X):\n",
    "    if x>0:\n",
    "        print(x,\"pos number\")\n",
    "    elif x<0:\n",
    "        print (x,\"neg number\")\n",
    "    else:\n",
    "        print(x,\"zero\")\n",
    "x = float(input(\"x=\")) \n",
    "sign(x)"
   ]
  },
  {
   "cell_type": "code",
   "execution_count": 17,
   "id": "9d2834ae",
   "metadata": {},
   "outputs": [
    {
     "name": "stdout",
     "output_type": "stream",
     "text": [
      "x=26\n",
      "26 zoj\n"
     ]
    }
   ],
   "source": [
    "\n",
    "def zoj(X):\n",
    "    \n",
    "    if x%2 == 0:\n",
    "        print(X,\"zoj\")\n",
    "    else:\n",
    "        print(x,\"fard\")\n",
    "x = int(input(\"x=\"))\n",
    "zoj(x)"
   ]
  },
  {
   "cell_type": "code",
   "execution_count": 15,
   "id": "46be9723",
   "metadata": {},
   "outputs": [
    {
     "name": "stdout",
     "output_type": "stream",
     "text": [
      "a=5\n",
      "b=8\n",
      "c=7\n",
      "minnum= 5.0\n"
     ]
    }
   ],
   "source": [
    "def min_num(a,b,c):\n",
    "    \n",
    "    \n",
    "    \n",
    "    if a <= b and a <= c:\n",
    "        minnum = a\n",
    "\n",
    "    elif b <= a and b <= c:\n",
    "        minnum = b\n",
    "    else:\n",
    "        \n",
    "        minnum = c\n",
    "    \n",
    "    print(\"minnum=\",minnum)\n",
    "\n",
    "\n",
    "\n",
    "a = float(input(\"a=\"))\n",
    "\n",
    "b = float(input(\"b=\"))\n",
    " \n",
    "c = float(input(\"c=\"))\n",
    "    \n",
    "min_num(a,b,c)\n",
    " "
   ]
  },
  {
   "cell_type": "code",
   "execution_count": 21,
   "id": "dbacd5cd",
   "metadata": {},
   "outputs": [
    {
     "name": "stdout",
     "output_type": "stream",
     "text": [
      "first========taha\n",
      "secend=======yqbi alah deh\n",
      "taha < yqbi alah deh\n"
     ]
    }
   ],
   "source": [
    "def w_1(x,y):\n",
    "    \n",
    "    n = len(x)\n",
    "    m = len(y)\n",
    "    if n>m:\n",
    "        \n",
    "        \n",
    "        print(x,\">\",y)\n",
    "    elif n<m:\n",
    "        \n",
    "        print(x,\"<\",y)\n",
    "    else:\n",
    "        print(x,\"=\",y)\n",
    "\n",
    "x = input(\"first========\")\n",
    "y = input(\"secend=======\")\n",
    "\n",
    "w_1(x,y)"
   ]
  },
  {
   "cell_type": "code",
   "execution_count": 33,
   "id": "c368522b",
   "metadata": {},
   "outputs": [
    {
     "name": "stdout",
     "output_type": "stream",
     "text": [
      "whats your name=taha\n",
      "whats your id_number=262******8\n",
      "where are you from=talesh\n",
      "hello, taha wellcome\n",
      "your id number is  262******8\n",
      "you are from talesh\n",
      "=================================================================================\n",
      "if correct, please enter 1, otherwise 0=1\n",
      "next page\n"
     ]
    }
   ],
   "source": [
    "def wellcome(name,id_number,city):\n",
    "    \n",
    "    print(\"hello,\",name,\"wellcome\")\n",
    "    \n",
    "    print(\"your id number is \",id_number)\n",
    "    \n",
    "    print(\"you are from\",city)\n",
    "    print(\"=================================================================================\")\n",
    "name= input(\"whats your name=\")\n",
    "id_number = input(\"whats your id_number=\")\n",
    "city = input(\"where are you from=\")\n",
    "\n",
    "wellcome(name,id_number,city)\n",
    "\n",
    "q = input (\"if correct, please enter 1, otherwise 0=\")\n",
    "if q==\"1\":\n",
    "     \n",
    "    print(\"next page\")\n",
    "else:\n",
    "    print(\"try again\")\n",
    "    \n",
    "    \n"
   ]
  },
  {
   "cell_type": "code",
   "execution_count": 65,
   "id": "012fbd94",
   "metadata": {},
   "outputs": [
    {
     "name": "stdout",
     "output_type": "stream",
     "text": [
      "number==24\n",
      "yes\n"
     ]
    }
   ],
   "source": [
    "def s(number):\n",
    "    if number%3==0:\n",
    "         print(\"yes\")\n",
    "\n",
    "    else:\n",
    "        print(\"falls\")\n",
    "        \n",
    "number = float(input(\"number==\"))\n",
    "s(number)"
   ]
  },
  {
   "cell_type": "code",
   "execution_count": 75,
   "id": "e7b349f6",
   "metadata": {},
   "outputs": [
    {
     "name": "stdout",
     "output_type": "stream",
     "text": [
      "number=45\n",
      "falls\n"
     ]
    }
   ],
   "source": [
    "def h(nymber):\n",
    "    \n",
    "\n",
    "    if nymber%2==0 and nymber%7==0:\n",
    "        \n",
    "        print(\"true\")\n",
    "    else:\n",
    "        \n",
    "        print(\"falls\")\n",
    "    \n",
    "       \n",
    "\n",
    "nymber = float(input(\"number=\"))\n",
    "h(nymber)"
   ]
  },
  {
   "cell_type": "code",
   "execution_count": 5,
   "id": "ac6ca0ba",
   "metadata": {},
   "outputs": [
    {
     "name": "stdout",
     "output_type": "stream",
     "text": [
      "please enter point 1 x=2\n",
      "please enter point 1 y=5\n",
      "_____________________________________\n",
      "please enter point 2 x=54\n",
      "please enter point 2 y=5\n",
      "points distance: 52.0\n"
     ]
    }
   ],
   "source": [
    "from math import sqrt\n",
    "\n",
    "def points_distance(x1,x2,y1,y2):\n",
    "    d=sqrt(((x2-x1)**2)+((y2-y1)**2))\n",
    "    print(\"points distance:\",d)\n",
    "    \n",
    "x1 = float(input(\"please enter point 1 x=\"))\n",
    "y1 = float(input(\"please enter point 1 y=\"))\n",
    "print(\"_____________________________________\")\n",
    "\n",
    "\n",
    "\n",
    "x2 = float(input(\"please enter point 2 x=\"))\n",
    "y2 = float(input(\"please enter point 2 y=\"))\n",
    "\n",
    "points_distance(x1,x2,y1,y2)"
   ]
  },
  {
   "cell_type": "code",
   "execution_count": null,
   "id": "2c9e7a7b",
   "metadata": {},
   "outputs": [],
   "source": []
  }
 ],
 "metadata": {
  "kernelspec": {
   "display_name": "Python 3 (ipykernel)",
   "language": "python",
   "name": "python3"
  },
  "language_info": {
   "codemirror_mode": {
    "name": "ipython",
    "version": 3
   },
   "file_extension": ".py",
   "mimetype": "text/x-python",
   "name": "python",
   "nbconvert_exporter": "python",
   "pygments_lexer": "ipython3",
   "version": "3.9.12"
  }
 },
 "nbformat": 4,
 "nbformat_minor": 5
}
