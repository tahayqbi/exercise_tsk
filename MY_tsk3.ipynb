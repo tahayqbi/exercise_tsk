{
 "cells": [
  {
   "cell_type": "code",
   "execution_count": 1,
   "id": "d6f24557",
   "metadata": {},
   "outputs": [
    {
     "name": "stdout",
     "output_type": "stream",
     "text": [
      "x=25\n",
      "y=54\n",
      "z=ccd\n",
      "25 54 ccd\n"
     ]
    }
   ],
   "source": [
    "x = input(\"x=\")\n",
    "y = input(\"y=\")\n",
    "z = input(\"z=\")\n",
    "print(x,y,z)"
   ]
  },
  {
   "cell_type": "code",
   "execution_count": 2,
   "id": "673ef102",
   "metadata": {},
   "outputs": [
    {
     "name": "stdout",
     "output_type": "stream",
     "text": [
      "x,y,z=taha yqbi alahdeh\n",
      "x= taha\n",
      "y= yqbi\n",
      "z= alahdeh\n"
     ]
    }
   ],
   "source": [
    "x,y,z = input(\"x,y,z=\").split()\n",
    "print(\"x=\",x)\n",
    "print(\"y=\",y)\n",
    "print(\"z=\",z)"
   ]
  },
  {
   "cell_type": "markdown",
   "id": "c6dbee3a",
   "metadata": {},
   "source": [
    "## range"
   ]
  },
  {
   "cell_type": "code",
   "execution_count": 5,
   "id": "861b51d1",
   "metadata": {},
   "outputs": [
    {
     "name": "stdout",
     "output_type": "stream",
     "text": [
      "2\n",
      "6\n",
      "10\n",
      "14\n",
      "18\n",
      "22\n",
      "26\n",
      "30\n",
      "34\n",
      "38\n",
      "42\n",
      "46\n",
      "50\n",
      "54\n",
      "58\n",
      "62\n",
      "66\n",
      "70\n",
      "74\n",
      "78\n",
      "82\n",
      "86\n",
      "90\n",
      "94\n",
      "98\n"
     ]
    }
   ],
   "source": [
    "for i in range(2,100,4):\n",
    "    \n",
    "    print(i)"
   ]
  },
  {
   "cell_type": "code",
   "execution_count": 12,
   "id": "e3de74cd",
   "metadata": {},
   "outputs": [
    {
     "name": "stdout",
     "output_type": "stream",
     "text": [
      "x=2\n",
      "0 * 2.0 = 0.0\n",
      "1 * 2.0 = 2.0\n",
      "2 * 2.0 = 4.0\n",
      "3 * 2.0 = 6.0\n",
      "4 * 2.0 = 8.0\n",
      "5 * 2.0 = 10.0\n",
      "6 * 2.0 = 12.0\n",
      "7 * 2.0 = 14.0\n",
      "8 * 2.0 = 16.0\n",
      "9 * 2.0 = 18.0\n"
     ]
    }
   ],
   "source": [
    "x = float(input(\"x=\"))\n",
    "for i in range(10):\n",
    "    s=i*x\n",
    "    print(i,\"*\",x,\"=\",s)"
   ]
  },
  {
   "cell_type": "code",
   "execution_count": 18,
   "id": "7244ce44",
   "metadata": {},
   "outputs": [
    {
     "name": "stdout",
     "output_type": "stream",
     "text": [
      "a=2\n",
      "b=100\n",
      "all= 5049\n"
     ]
    }
   ],
   "source": [
    "a = int(input(\"a=\"))\n",
    "\n",
    "b = int(input(\"b=\"))\n",
    "s = 0\n",
    "for i in range(a,b+1):\n",
    "    s = s+i\n",
    "print(\"all=\",s)"
   ]
  },
  {
   "cell_type": "code",
   "execution_count": 26,
   "id": "1b3f8b54",
   "metadata": {},
   "outputs": [
    {
     "name": "stdout",
     "output_type": "stream",
     "text": [
      "a=5\n",
      "b=9\n",
      "6\n",
      "8\n",
      "___________________________________________\n",
      "s= 2\n"
     ]
    }
   ],
   "source": [
    "a = int(input(\"a=\"))\n",
    "\n",
    "b = int(input(\"b=\"))\n",
    "s = 0\n",
    "for i in range(a,b+1):\n",
    "    if i % 2 == 0:\n",
    "        \n",
    "        print(i)\n",
    "        s = s + 1\n",
    "print(\"___________________________________________\")\n",
    "\n",
    "print(\"s=\",s)\n"
   ]
  },
  {
   "cell_type": "code",
   "execution_count": 32,
   "id": "cb50a7b5",
   "metadata": {},
   "outputs": [
    {
     "name": "stdout",
     "output_type": "stream",
     "text": [
      "a=10\n",
      "b=100\n",
      "mean= 55.0\n"
     ]
    }
   ],
   "source": [
    "a = int(input(\"a=\"))\n",
    "\n",
    "b = int(input(\"b=\"))\n",
    "s = 0\n",
    "n = 0\n",
    "for i in range(a,b+1):\n",
    "    s = s + i\n",
    "    n =n + 1\n",
    "mean = s/n\n",
    "print(\"mean=\",mean)"
   ]
  },
  {
   "cell_type": "code",
   "execution_count": 39,
   "id": "8598b856",
   "metadata": {},
   "outputs": [
    {
     "name": "stdout",
     "output_type": "stream",
     "text": [
      "mean= 2.0\n",
      "mean= 1.25\n",
      "mean= -0.16666666666666666\n",
      "mean= 0.0625\n",
      "mean= 1.85\n"
     ]
    }
   ],
   "source": [
    "x = [2,0.5,-3,0.75,9]\n",
    "s = 0\n",
    "n = 0\n",
    "for i in x:\n",
    "    s = s + i\n",
    "    n = n + 1\n",
    "    mean = s/n\n",
    "    print(\"mean=\",mean)\n",
    "\n"
   ]
  },
  {
   "cell_type": "code",
   "execution_count": 41,
   "id": "5e62bbd0",
   "metadata": {},
   "outputs": [
    {
     "name": "stdout",
     "output_type": "stream",
     "text": [
      "n=3\n",
      "x=12.5\n",
      "x=3.5\n",
      "x=4.5\n",
      "mean 6.833333333333333\n"
     ]
    }
   ],
   "source": [
    "n = int(input(\"n=\"))\n",
    "\n",
    "s = 0\n",
    "for i in range (n):\n",
    "    x = float(input(\"x=\"))\n",
    "    s = s + x\n",
    "mean = s/n\n",
    "print(\"mean\",mean)"
   ]
  },
  {
   "cell_type": "code",
   "execution_count": 7,
   "id": "49c32124",
   "metadata": {},
   "outputs": [
    {
     "name": "stdout",
     "output_type": "stream",
     "text": [
      "s= 2\n",
      "s= 2.5\n",
      "s= -0.5\n",
      "s= 0.25\n",
      "s= 9.25\n"
     ]
    }
   ],
   "source": [
    "x = [2,0.5,-3,0.75,9]\n",
    "s = 0\n",
    "\n",
    "for i in x:\n",
    "    \n",
    "    s = s + i\n",
    "   \n",
    "    print(\"s=\",s)"
   ]
  },
  {
   "cell_type": "code",
   "execution_count": 8,
   "id": "2252b56a",
   "metadata": {},
   "outputs": [
    {
     "name": "stdout",
     "output_type": "stream",
     "text": [
      "mean= 1.85\n"
     ]
    }
   ],
   "source": [
    "x = [2,0.5,-3,0.75,9]\n",
    "s = 0\n",
    "n = 0\n",
    "for i in x:\n",
    "    \n",
    "    s = s + i\n",
    "    n = n + 1\n",
    "mean = s/n\n",
    "print(\"mean=\",mean)"
   ]
  },
  {
   "cell_type": "code",
   "execution_count": 11,
   "id": "2cf5a755",
   "metadata": {},
   "outputs": [
    {
     "name": "stdout",
     "output_type": "stream",
     "text": [
      "n=8\n",
      "x=3\n",
      "x=6\n",
      "x=5\n",
      "x=8\n",
      "x=8\n",
      "x=5\n",
      "x=2\n",
      "x=5\n",
      "mean 5.25\n"
     ]
    }
   ],
   "source": [
    "n = int(input(\"n=\"))\n",
    "s = 0\n",
    "for i in range (n):\n",
    "    x = float(input(\"x=\"))\n",
    "    s = s + x\n",
    "mean = s/n\n",
    "print(\"mean\",mean)"
   ]
  },
  {
   "cell_type": "code",
   "execution_count": 13,
   "id": "92045b38",
   "metadata": {},
   "outputs": [
    {
     "name": "stdout",
     "output_type": "stream",
     "text": [
      "n=3\n",
      "v=1\n",
      "x=18.5\n",
      "mean 18.5\n",
      "v=2\n",
      "x=19.25\n",
      "mean 19.0\n",
      "v=3\n",
      "x=20\n",
      "mean 19.5\n"
     ]
    }
   ],
   "source": [
    "n = int(input(\"n=\"))\n",
    " \n",
    "s = 0 \n",
    "sv = 0\n",
    "for i in range(n):\n",
    "    v = float(input(\"v=\"))\n",
    "    m = float(input(\"x=\"))\n",
    "    x = m * v\n",
    "    s = s + x\n",
    "    sv = sv + v \n",
    "    mean = s / sv\n",
    "    print(\"mean\",mean)"
   ]
  },
  {
   "cell_type": "markdown",
   "id": "c02983fc",
   "metadata": {},
   "source": [
    "## tsk"
   ]
  },
  {
   "cell_type": "code",
   "execution_count": 16,
   "id": "e7dc0e97",
   "metadata": {},
   "outputs": [
    {
     "ename": "SyntaxError",
     "evalue": "cannot assign to operator (882470008.py, line 3)",
     "output_type": "error",
     "traceback": [
      "\u001b[1;36m  Input \u001b[1;32mIn [16]\u001b[1;36m\u001b[0m\n\u001b[1;33m    s = ((1**2) + (2**2) + (3**2)) = 14\u001b[0m\n\u001b[1;37m         ^\u001b[0m\n\u001b[1;31mSyntaxError\u001b[0m\u001b[1;31m:\u001b[0m cannot assign to operator\n"
     ]
    }
   ],
   "source": [
    "from math import sqrt\n",
    "n = float(input(\"n=\"))\n",
    "s = ((1**2) + (2**2) + (3**2)) = 14\n",
    "ss = sqrt(s)"
   ]
  },
  {
   "cell_type": "code",
   "execution_count": null,
   "id": "5a0fc30d",
   "metadata": {},
   "outputs": [],
   "source": []
  }
 ],
 "metadata": {
  "kernelspec": {
   "display_name": "Python 3 (ipykernel)",
   "language": "python",
   "name": "python3"
  },
  "language_info": {
   "codemirror_mode": {
    "name": "ipython",
    "version": 3
   },
   "file_extension": ".py",
   "mimetype": "text/x-python",
   "name": "python",
   "nbconvert_exporter": "python",
   "pygments_lexer": "ipython3",
   "version": "3.9.12"
  }
 },
 "nbformat": 4,
 "nbformat_minor": 5
}
