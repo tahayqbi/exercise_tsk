{
 "cells": [
  {
   "cell_type": "code",
   "execution_count": 1,
   "id": "a89d8e1b",
   "metadata": {},
   "outputs": [
    {
     "name": "stdout",
     "output_type": "stream",
     "text": [
      "password=taha0010\n",
      "try again\n"
     ]
    }
   ],
   "source": [
    "password = input(\"password=\")\n",
    "n = len(password)\n",
    "if n==(\"taha0010\"):\n",
    "    print(wellcome)\n",
    "else:\n",
    "    print(\"try again\")"
   ]
  },
  {
   "cell_type": "code",
   "execution_count": 2,
   "id": "ee82bb76",
   "metadata": {},
   "outputs": [
    {
     "name": "stdout",
     "output_type": "stream",
     "text": [
      "id_number26203625187\n",
      "F_try again\n"
     ]
    }
   ],
   "source": [
    "id_number = input(\"id_number\")\n",
    "n = len(id_number)\n",
    "if n == 10:\n",
    "    print(\"true\")\n",
    "else:\n",
    "    print(\"F_try again\")\n"
   ]
  },
  {
   "cell_type": "code",
   "execution_count": 3,
   "id": "dc107a1b",
   "metadata": {},
   "outputs": [
    {
     "name": "stdout",
     "output_type": "stream",
     "text": [
      "x=5\n",
      "***\n"
     ]
    }
   ],
   "source": [
    "x = float(input(\"x=\"))\n",
    "if x>12:\n",
    "    print(\"*\")\n",
    "elif x>7:\n",
    "    print(\"**\")\n",
    "elif x>2:\n",
    "    print(\"***\")\n",
    "else:\n",
    "    print(\"****\")"
   ]
  },
  {
   "cell_type": "code",
   "execution_count": 4,
   "id": "bb0dc017",
   "metadata": {},
   "outputs": [
    {
     "name": "stdout",
     "output_type": "stream",
     "text": [
      "x=87\n",
      "In(x)= 4.465908118654584\n"
     ]
    }
   ],
   "source": [
    "import math\n",
    "x = float(input(\"x=\"))\n",
    "if x>10:\n",
    "    y = math.log(x)\n",
    "    print(\"In(x)=\",y)\n",
    "elif 0<=x<=10:\n",
    "    y= math.sqrt(x)\n",
    "    print(\"sqrt(x)=\",y)\n",
    "elif x<0:\n",
    "    y = math.exp(x)-1\n",
    "    print(\"exp(x)-1=\",y)\n"
   ]
  },
  {
   "cell_type": "markdown",
   "id": "64640a35",
   "metadata": {},
   "source": [
    "### about or & and"
   ]
  },
  {
   "cell_type": "code",
   "execution_count": 5,
   "id": "a69796f1",
   "metadata": {},
   "outputs": [
    {
     "name": "stdout",
     "output_type": "stream",
     "text": [
      "first_name=yqbi\n",
      "normall name\n"
     ]
    }
   ],
   "source": [
    "name = input(\"first_name=\")\n",
    "if name[0] == \"z\" and name[-1]== \"h\":\n",
    "    print(\"magic name\")\n",
    "else:\n",
    "        print(\"normall name\")"
   ]
  },
  {
   "cell_type": "code",
   "execution_count": 6,
   "id": "4b64e25b",
   "metadata": {},
   "outputs": [
    {
     "name": "stdout",
     "output_type": "stream",
     "text": [
      "first_name=yqbi\n",
      "normall name\n"
     ]
    }
   ],
   "source": [
    "name = input(\"first_name=\")\n",
    "if name[0] == \"z\" or name[-1]== \"h\":\n",
    "    print(\"magic name\")\n",
    "else:\n",
    "        print(\"normall name\")"
   ]
  },
  {
   "cell_type": "markdown",
   "id": "aab683a7",
   "metadata": {},
   "source": [
    "# task 1"
   ]
  },
  {
   "cell_type": "code",
   "execution_count": 8,
   "id": "03b74dad",
   "metadata": {},
   "outputs": [
    {
     "name": "stdout",
     "output_type": "stream",
     "text": [
      "a=1\n",
      "b=4\n",
      "C=1\n",
      "rishe1 = -0.2679491924311228 rishe2= -3.732050807568877\n"
     ]
    }
   ],
   "source": [
    "import math\n",
    "a = float(input(\"a=\"))\n",
    "b = float(input(\"b=\"))\n",
    "c = float(input(\"C=\"))\n",
    "delta = (b**2-4*a*c)\n",
    "\n",
    "if delta>0:\n",
    "    x1 = (-b+math.sqrt(delta))/(2*a)\n",
    "    x2 = (-b-math.sqrt(delta))/(2*a)\n",
    "    print (\"rishe1 =\",x1,\"rishe2=\",x2)\n",
    "elif delta == 0:\n",
    "    x = (-b)/(2*a)\n",
    "    print(X)\n",
    "elif delta < 0:\n",
    "    print(\"ziro\")"
   ]
  },
  {
   "cell_type": "code",
   "execution_count": 5,
   "id": "5d64cf32",
   "metadata": {},
   "outputs": [
    {
     "name": "stdout",
     "output_type": "stream",
     "text": [
      "score = 2\n",
      "fail\n",
      "score = 9.9\n",
      "fail\n",
      "score = 10\n",
      "good\n",
      "score = 16\n",
      "very good\n",
      "score = 19\n",
      "excellent\n",
      "score = 21\n",
      "wrong\n",
      "score = -2\n"
     ]
    }
   ],
   "source": [
    "for i in range(1,8):\n",
    " test_score = float(input(\"score = \"))\n",
    " if test_score>= 0 and test_score<=9.9:\n",
    "     print(\"fail\")\n",
    " elif test_score >=9.9 and test_score<=15:\n",
    "     print(\"good\")\n",
    " elif test_score>=15and test_score<=18:\n",
    "     print (\"very good\")\n",
    " elif test_score >=18 and test_score<=20:\n",
    "     print(\"excellent\")\n",
    " elif test_score >0 or test_score>20:\n",
    "     print(\"wrong\")"
   ]
  },
  {
   "cell_type": "code",
   "execution_count": null,
   "id": "dc24cc55",
   "metadata": {},
   "outputs": [],
   "source": []
  },
  {
   "cell_type": "code",
   "execution_count": null,
   "id": "826f61ee",
   "metadata": {},
   "outputs": [],
   "source": []
  },
  {
   "cell_type": "code",
   "execution_count": null,
   "id": "db91678d",
   "metadata": {},
   "outputs": [],
   "source": []
  },
  {
   "cell_type": "code",
   "execution_count": null,
   "id": "4258aa19",
   "metadata": {},
   "outputs": [],
   "source": []
  }
 ],
 "metadata": {
  "kernelspec": {
   "display_name": "Python 3 (ipykernel)",
   "language": "python",
   "name": "python3"
  },
  "language_info": {
   "codemirror_mode": {
    "name": "ipython",
    "version": 3
   },
   "file_extension": ".py",
   "mimetype": "text/x-python",
   "name": "python",
   "nbconvert_exporter": "python",
   "pygments_lexer": "ipython3",
   "version": "3.9.12"
  }
 },
 "nbformat": 4,
 "nbformat_minor": 5
}
